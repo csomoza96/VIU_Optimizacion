{
  "nbformat": 4,
  "nbformat_minor": 0,
  "metadata": {
    "colab": {
      "provenance": [],
      "authorship_tag": "ABX9TyMsapNFAukE5MLcMx7FjMv+",
      "include_colab_link": true
    },
    "kernelspec": {
      "name": "python3",
      "display_name": "Python 3"
    },
    "language_info": {
      "name": "python"
    }
  },
  "cells": [
    {
      "cell_type": "markdown",
      "metadata": {
        "id": "view-in-github",
        "colab_type": "text"
      },
      "source": [
        "<a href=\"https://colab.research.google.com/github/csomoza96/VIU_Optimizacion/blob/main/CarlosSomozaMartinez_AG1.ipynb\" target=\"_parent\"><img src=\"https://colab.research.google.com/assets/colab-badge.svg\" alt=\"Open In Colab\"/></a>"
      ]
    },
    {
      "cell_type": "markdown",
      "source": [
        "Carlos Somoza Martínez:\n",
        "<br>\n",
        "https://colab.research.google.com/drive/1TT-dD3Oir4xvly1Kw9UTTcooUYLOhX2J?usp=sharing\n",
        "<h1>Actividad guiada</h1>"
      ],
      "metadata": {
        "id": "XJsy4AP00bLU"
      }
    },
    {
      "cell_type": "markdown",
      "source": [
        "#Divide y vencerás\n",
        "<ul>\n",
        "<li>Comprobar que es un caso sencillo</li>\n",
        "<li>Ser capaces de recombinar subproblemas para dar solución al problema general</li>\n",
        "<li>Problemas disjuntos</li>\n",
        "\n",
        "\n",
        "</ul>\n"
      ],
      "metadata": {
        "id": "6menRtS-3O97"
      }
    },
    {
      "cell_type": "code",
      "source": [
        "#Torres Hanoi\n",
        "\n",
        "def torres_hanoi(N,desde,hasta):\n",
        "  pivote=6\n",
        "  if(N==1):\n",
        "    print(\"Leva la ficha desde \"+str(desde)+\" hasta \"+str(hasta))\n",
        "\n",
        "  else:\n",
        "    torres_hanoi(N-1,desde,pivote-desde-hasta)\n",
        "    print(\"Lleva la ficha desde \" +str(desde)+\" hasta \"+str(hasta))\n",
        "    torres_hanoi(N-1,pivote-desde-hasta,hasta)\n",
        "torres_hanoi(3,1,3)\n"
      ],
      "metadata": {
        "colab": {
          "base_uri": "https://localhost:8080/"
        },
        "id": "CzX95SB40e1T",
        "outputId": "9e2cff5e-40fd-48cd-9e9b-675261c1c0ad"
      },
      "execution_count": 6,
      "outputs": [
        {
          "output_type": "stream",
          "name": "stdout",
          "text": [
            "Leva la ficha desde 1 hasta 3\n",
            "Lleva la ficha desde 1 hasta 2\n",
            "Leva la ficha desde 3 hasta 2\n",
            "Lleva la ficha desde 1 hasta 3\n",
            "Leva la ficha desde 2 hasta 1\n",
            "Lleva la ficha desde 2 hasta 3\n",
            "Leva la ficha desde 1 hasta 3\n"
          ]
        }
      ]
    },
    {
      "cell_type": "code",
      "source": [],
      "metadata": {
        "id": "rJfxDz7T2e_6"
      },
      "execution_count": null,
      "outputs": []
    }
  ]
}