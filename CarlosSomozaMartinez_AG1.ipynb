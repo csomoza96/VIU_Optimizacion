{
  "nbformat": 4,
  "nbformat_minor": 0,
  "metadata": {
    "colab": {
      "provenance": [],
      "authorship_tag": "ABX9TyMHUT3TmPU9q6WGF5LP6wPj",
      "include_colab_link": true
    },
    "kernelspec": {
      "name": "python3",
      "display_name": "Python 3"
    },
    "language_info": {
      "name": "python"
    }
  },
  "cells": [
    {
      "cell_type": "markdown",
      "metadata": {
        "id": "view-in-github",
        "colab_type": "text"
      },
      "source": [
        "<a href=\"https://colab.research.google.com/github/csomoza96/VIU_Optimizacion/blob/main/CarlosSomozaMartinez_AG1.ipynb\" target=\"_parent\"><img src=\"https://colab.research.google.com/assets/colab-badge.svg\" alt=\"Open In Colab\"/></a>"
      ]
    },
    {
      "cell_type": "markdown",
      "source": [
        "Carlos Somoza Martínez:\n",
        "<br>\n",
        "https://colab.research.google.com/drive/1TT-dD3Oir4xvly1Kw9UTTcooUYLOhX2J?usp=sharing\n",
        "<h1>Actividad guiada</h1>"
      ],
      "metadata": {
        "id": "XJsy4AP00bLU"
      }
    },
    {
      "cell_type": "markdown",
      "source": [
        "#Divide y vencerás\n",
        "<ul>\n",
        "<li>Comprobar que es un caso sencillo</li>\n",
        "<li>Ser capaces de recombinar subproblemas para dar solución al problema general</li>\n",
        "<li>Problemas disjuntos</li>\n",
        "\n",
        "\n",
        "</ul>\n"
      ],
      "metadata": {
        "id": "6menRtS-3O97"
      }
    },
    {
      "cell_type": "code",
      "source": [
        "#Torres Hanoi\n",
        "\n",
        "def torres_hanoi(N,desde,hasta):\n",
        "  pivote=6\n",
        "  if(N==1):\n",
        "    print(\"Leva la ficha desde \"+str(desde)+\" hasta \"+str(hasta))\n",
        "\n",
        "  else:\n",
        "    torres_hanoi(N-1,desde,pivote-desde-hasta)\n",
        "    print(\"Lleva la ficha desde \" +str(desde)+\" hasta \"+str(hasta))\n",
        "    torres_hanoi(N-1,pivote-desde-hasta,hasta)\n",
        "torres_hanoi(3,1,3)\n"
      ],
      "metadata": {
        "colab": {
          "base_uri": "https://localhost:8080/"
        },
        "id": "CzX95SB40e1T",
        "outputId": "9e2cff5e-40fd-48cd-9e9b-675261c1c0ad"
      },
      "execution_count": 6,
      "outputs": [
        {
          "output_type": "stream",
          "name": "stdout",
          "text": [
            "Leva la ficha desde 1 hasta 3\n",
            "Lleva la ficha desde 1 hasta 2\n",
            "Leva la ficha desde 3 hasta 2\n",
            "Lleva la ficha desde 1 hasta 3\n",
            "Leva la ficha desde 2 hasta 1\n",
            "Lleva la ficha desde 2 hasta 3\n",
            "Leva la ficha desde 1 hasta 3\n"
          ]
        }
      ]
    },
    {
      "cell_type": "markdown",
      "source": [
        "#Técnica voraz\n",
        "<ul>\n",
        "<li>Elige en cada etapa la solución óptima rechazando todas las demás</li>\n",
        "<li>Valida la factabilidad</li>\n",
        "<li>Criterio que compruebe que hemops finalizado</li>\n",
        "</ul>\n",
        "\n",
        "\n",
        "\n"
      ],
      "metadata": {
        "id": "issS1i4Y6lMv"
      }
    },
    {
      "cell_type": "code",
      "source": [
        "#Cambio de monedas\n",
        "SISTEMA = [12, 5 ,2, 1  ]\n",
        "def cambio_monedas(CANTIDAD,SISTEMA):\n",
        "  SOLUCION = [0]*len(SISTEMA)\n",
        "  ValorAcumulado = 0\n",
        "\n",
        "  for i,valor in enumerate(SISTEMA):\n",
        "    monedas = (CANTIDAD-ValorAcumulado)//valor\n",
        "    SOLUCION[i] = monedas\n",
        "    ValorAcumulado = ValorAcumulado + monedas*valor\n",
        "\n",
        "    if CANTIDAD == ValorAcumulado:\n",
        "      return SOLUCION\n",
        "\n",
        "  print(\"No es posible encontrar solucion\")\n",
        "cambio_monedas(15,SISTEMA)"
      ],
      "metadata": {
        "colab": {
          "base_uri": "https://localhost:8080/"
        },
        "id": "rJfxDz7T2e_6",
        "outputId": "7500f51e-5fbb-45a7-85b2-e058f0af9701"
      },
      "execution_count": 9,
      "outputs": [
        {
          "output_type": "execute_result",
          "data": {
            "text/plain": [
              "[1, 0, 1, 1]"
            ]
          },
          "metadata": {},
          "execution_count": 9
        }
      ]
    },
    {
      "cell_type": "markdown",
      "source": [
        "#Backtracking\n",
        "Nos facilita la posibilidad de hacer <strong>podas</strong>"
      ],
      "metadata": {
        "id": "4cBVskxw9RFh"
      }
    },
    {
      "cell_type": "code",
      "source": [
        "#Problema 4 reinas\n",
        "\n",
        "#Verifica que en la solución parcial no hay amenzas entre reinas\n",
        "################################################################\n",
        "def es_prometedora(SOLUCION,etapa):\n",
        "################################################################\n",
        "  #print(SOLUCION)\n",
        "  #Si la solución tiene dos valores iguales no es valida => Dos reinas en la misma fila\n",
        "  for i in range(etapa+1):\n",
        "    #print(\"El valor \" + str(SOLUCION[i]) + \" está \" +  str(SOLUCION.count(SOLUCION[i])) + \" veces\")\n",
        "    if SOLUCION.count(SOLUCION[i]) > 1:\n",
        "      return False\n",
        "\n",
        "    #Verifica las diagonales\n",
        "    for j in range(i+1, etapa +1 ):\n",
        "      #print(\"Comprobando diagonal de \" + str(i) + \" y \" + str(j))\n",
        "      if abs(i-j) == abs(SOLUCION[i]-SOLUCION[j]) : return False\n",
        "  return True\n",
        "\n",
        "#Traduce la solución al tablero\n",
        "################################################################\n",
        "def escribe_solucion(S):\n",
        "################################################################\n",
        "  n = len(S)\n",
        "  for x in range(n):\n",
        "    print(\"\")\n",
        "    for i in range(n):\n",
        "      if S[i] == x+1:\n",
        "        print(\" X \" , end=\"\")\n",
        "      else:\n",
        "        print(\" - \", end=\"\")\n",
        "\n",
        "\n",
        "\n",
        "#Proceso principal de N-Reinas\n",
        "################################################################\n",
        "def reinas(N, solucion=[],etapa=0):\n",
        "################################################################\n",
        "### ....\n",
        "  if len(solucion) == 0:         # [0,0,0...]\n",
        "    solucion = [0 for i in range(N) ]\n",
        "\n",
        "  for i in range(1, N+1):\n",
        "    solucion[etapa] = i\n",
        "    if es_prometedora(solucion, etapa):\n",
        "      if etapa == N-1:\n",
        "        print(solucion)\n",
        "      else:\n",
        "        reinas(N, solucion, etapa+1)\n",
        "    else:\n",
        "      None\n",
        "\n",
        "  solucion[etapa] = 0\n",
        "\n",
        "reinas(4,solucion=[],etapa=0)\n"
      ],
      "metadata": {
        "colab": {
          "base_uri": "https://localhost:8080/"
        },
        "id": "DX7zCd8I87nc",
        "outputId": "5697c508-ac27-4aa0-d68b-ceaab58bedd2"
      },
      "execution_count": 13,
      "outputs": [
        {
          "output_type": "stream",
          "name": "stdout",
          "text": [
            "[2, 4, 1, 3]\n",
            "[3, 1, 4, 2]\n"
          ]
        }
      ]
    },
    {
      "cell_type": "code",
      "source": [],
      "metadata": {
        "id": "MafpnBIa-nPU"
      },
      "execution_count": null,
      "outputs": []
    }
  ]
}